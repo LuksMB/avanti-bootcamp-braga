{
 "cells": [
  {
   "cell_type": "code",
   "execution_count": 2,
   "id": "2e4f58a5-7db1-4c4a-890e-b3d1173a642e",
   "metadata": {
    "tags": []
   },
   "outputs": [],
   "source": [
    "abalone_sex = {\n",
    "    \"variavel\" : \"Sex\",\n",
    "    \"descricao\" : \"Sexo\",\n",
    "    \"tipo\" : \"qualitativa\",\n",
    "    \"subtipo\" : \"nominal\",\n",
    "}\n",
    "\n",
    "abalone_length = {\n",
    "    \"variavel\" : \"Length\",\n",
    "    \"descricao\" : \"Comprimento\",\n",
    "    \"tipo\" : \"quantitativa\",\n",
    "    \"subtipo\" : \"contínua\",\n",
    "}\n",
    "\n",
    "abalone_diameter = {\n",
    "    \"variavel\" : \"Diameter\",\n",
    "    \"descricao\" : \"Diâmetro\",\n",
    "    \"tipo\" : \"quantitativa\",\n",
    "    \"subtipo\" : \"contínua\",\n",
    "}\n",
    "\n",
    "abalone_height = {\n",
    "    \"variavel\" : \"Height\",\n",
    "    \"descricao\" : \"Altura\",\n",
    "    \"tipo\" : \"quantitativa\",\n",
    "    \"subtipo\" : \"contínua\",\n",
    "}\n",
    "\n",
    "abalone_whole_weight = {\n",
    "    \"variavel\" : \"Whole_weight\",\n",
    "    \"descricao\" : \"Peso total\",\n",
    "    \"tipo\" : \"quantitativa\",\n",
    "    \"subtipo\" : \"contínua\",\n",
    "}\n",
    "\n",
    "abalone_shucked_weight = {\n",
    "    \"variavel\" : \"Shucked_weight\",\n",
    "    \"descricao\" : \"Peso da casca\",\n",
    "    \"tipo\" : \"quantitativa\",\n",
    "    \"subtipo\" : \"contínua\",\n",
    "}\n",
    "\n",
    "abalone_viscera_weight = {\n",
    "    \"variavel\" : \"Viscera_weight\",\n",
    "    \"descricao\" : \"Peso das vísceras\",\n",
    "    \"tipo\" : \"quantitativa\",\n",
    "    \"subtipo\" : \"contínua\",\n",
    "}\n",
    "\n",
    "abalone_shell_weight = {\n",
    "    \"variavel\" : \"Shell_weight\",\n",
    "    \"descricao\" : \"Peso da concha\",\n",
    "    \"tipo\" : \"quantitativa\",\n",
    "    \"subtipo\" : \"contínua\",\n",
    "}\n",
    "\n",
    "abalone_rings = {\n",
    "    \"variavel\" : \"Rings\",\n",
    "    \"descricao\" : \"Anéis que representam a idade aproximada da concha\",\n",
    "    \"tipo\" : \"quantitativa\",\n",
    "    \"subtipo\" : \"contínua\",\n",
    "}"
   ]
  },
  {
   "cell_type": "code",
   "execution_count": 3,
   "id": "1e0ab631-99e5-4bf6-895b-7fd4eaa9ebd4",
   "metadata": {
    "tags": []
   },
   "outputs": [
    {
     "name": "stdout",
     "output_type": "stream",
     "text": [
      "{'variavel': 'Sex', 'descricao': 'Sexo', 'tipo': 'qualitativa', 'subtipo': 'nominal'}\n",
      "{'variavel': 'Length', 'descricao': 'Comprimento', 'tipo': 'quantitativa', 'subtipo': 'contínua'}\n",
      "{'variavel': 'Diameter', 'descricao': 'Diâmetro', 'tipo': 'quantitativa', 'subtipo': 'contínua'}\n",
      "{'variavel': 'Height', 'descricao': 'Altura', 'tipo': 'quantitativa', 'subtipo': 'contínua'}\n",
      "{'variavel': 'Whole_weight', 'descricao': 'Peso total', 'tipo': 'quantitativa', 'subtipo': 'contínua'}\n",
      "{'variavel': 'Shucked_weight', 'descricao': 'Peso da casca', 'tipo': 'quantitativa', 'subtipo': 'contínua'}\n",
      "{'variavel': 'Viscera_weight', 'descricao': 'Peso das vísceras', 'tipo': 'quantitativa', 'subtipo': 'contínua'}\n",
      "{'variavel': 'Shell_weight', 'descricao': 'Peso da concha', 'tipo': 'quantitativa', 'subtipo': 'contínua'}\n",
      "{'variavel': 'Rings', 'descricao': 'Anéis que representam a idade aproximada da concha', 'tipo': 'quantitativa', 'subtipo': 'contínua'}\n"
     ]
    }
   ],
   "source": [
    "print(abalone_sex)\n",
    "print(abalone_length)\n",
    "print(abalone_diameter) \n",
    "print(abalone_height) \n",
    "print(abalone_whole_weight) \n",
    "print(abalone_shucked_weight) \n",
    "print(abalone_viscera_weight)\n",
    "print(abalone_shell_weight) \n",
    "print(abalone_rings)"
   ]
  },
  {
   "cell_type": "code",
   "execution_count": null,
   "id": "6765a464-fe90-4617-87f9-815d6900f8de",
   "metadata": {},
   "outputs": [],
   "source": []
  }
 ],
 "metadata": {
  "kernelspec": {
   "display_name": "Python 3 (ipykernel)",
   "language": "python",
   "name": "python3"
  },
  "language_info": {
   "codemirror_mode": {
    "name": "ipython",
    "version": 3
   },
   "file_extension": ".py",
   "mimetype": "text/x-python",
   "name": "python",
   "nbconvert_exporter": "python",
   "pygments_lexer": "ipython3",
   "version": "3.10.12"
  }
 },
 "nbformat": 4,
 "nbformat_minor": 5
}
